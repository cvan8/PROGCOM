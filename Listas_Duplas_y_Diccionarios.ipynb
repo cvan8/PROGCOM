{
  "nbformat": 4,
  "nbformat_minor": 0,
  "metadata": {
    "colab": {
      "provenance": [],
      "collapsed_sections": []
    },
    "kernelspec": {
      "name": "python3",
      "display_name": "Python 3"
    },
    "language_info": {
      "name": "python"
    }
  },
  "cells": [
    {
      "cell_type": "markdown",
      "source": [
        "#SECUENCIA DE DATOS\n"
      ],
      "metadata": {
        "id": "SHcbrJhhNGOk"
      }
    },
    {
      "cell_type": "markdown",
      "source": [
        "##LISTAS\n",
        "También conocidas como vectores o arrays.\n",
        "Es una variable que, en lugar de contener un valor, contiene una secuencia ordenada de estos, a los que se puede acceder por su posición o por su índice.\n",
        "Se declaran indicando sus elementos, separados por comas, entre corchetes []"
      ],
      "metadata": {
        "id": "325LVBzsM0x7"
      }
    },
    {
      "cell_type": "code",
      "execution_count": 31,
      "metadata": {
        "colab": {
          "base_uri": "https://localhost:8080/"
        },
        "id": "23GjaB68MkIG",
        "outputId": "d709ba55-18c8-47e4-89d5-c3ab5e34f190"
      },
      "outputs": [
        {
          "output_type": "execute_result",
          "data": {
            "text/plain": [
              "['primero', 'segundo', 'tercero', 'cuarto']"
            ]
          },
          "metadata": {},
          "execution_count": 31
        }
      ],
      "source": [
        "lista=[\"primero\",\"segundo\", \"tercero\", \"cuarto\"]\n",
        "lista"
      ]
    },
    {
      "cell_type": "markdown",
      "source": [
        "###Accediendo a los elementos de la lista"
      ],
      "metadata": {
        "id": "yPn3XFg4PWpt"
      }
    },
    {
      "cell_type": "code",
      "source": [
        "#Accediendo a la lista por posición\n",
        "lista[0]"
      ],
      "metadata": {
        "colab": {
          "base_uri": "https://localhost:8080/",
          "height": 35
        },
        "id": "-63XOgdXOzdR",
        "outputId": "610d7cda-0cbf-491c-9d35-6331cd461671"
      },
      "execution_count": 2,
      "outputs": [
        {
          "output_type": "execute_result",
          "data": {
            "text/plain": [
              "'primero'"
            ],
            "application/vnd.google.colaboratory.intrinsic+json": {
              "type": "string"
            }
          },
          "metadata": {},
          "execution_count": 2
        }
      ]
    },
    {
      "cell_type": "code",
      "source": [
        "#Accediendo a todos los elementos de la lista empleando el slicing\n",
        "lista[:]"
      ],
      "metadata": {
        "colab": {
          "base_uri": "https://localhost:8080/"
        },
        "id": "cadWYF2xSW8L",
        "outputId": "98b283a1-c559-4fd3-b795-617687122c89"
      },
      "execution_count": 3,
      "outputs": [
        {
          "output_type": "execute_result",
          "data": {
            "text/plain": [
              "['primero', 'segundo', 'tercero', 'cuarto']"
            ]
          },
          "metadata": {},
          "execution_count": 3
        }
      ]
    },
    {
      "cell_type": "code",
      "source": [
        "#Accediendo a los dos primeros elementos de la lista\n",
        "lista[0:2]"
      ],
      "metadata": {
        "colab": {
          "base_uri": "https://localhost:8080/"
        },
        "id": "XsDQpQKISYiL",
        "outputId": "cee3809d-5a03-41e1-ef7c-5a19114ccb49"
      },
      "execution_count": 4,
      "outputs": [
        {
          "output_type": "execute_result",
          "data": {
            "text/plain": [
              "['primero', 'segundo']"
            ]
          },
          "metadata": {},
          "execution_count": 4
        }
      ]
    },
    {
      "cell_type": "code",
      "source": [
        "#Existe alguna otra manera de imprimir los dos primeros elementos de la lista? Coloque la línea de código que hace esto.\n",
        "lista[0], lista[1]"
      ],
      "metadata": {
        "id": "miawsux8S7BD",
        "colab": {
          "base_uri": "https://localhost:8080/"
        },
        "outputId": "d073d827-e70f-4db8-e708-810cd813edc7"
      },
      "execution_count": 29,
      "outputs": [
        {
          "output_type": "execute_result",
          "data": {
            "text/plain": [
              "('primero', 'segundo')"
            ]
          },
          "metadata": {},
          "execution_count": 29
        }
      ]
    },
    {
      "cell_type": "code",
      "source": [
        "#Accediendo a los dos últimos elementos de la lista\n",
        "lista[2:4]"
      ],
      "metadata": {
        "colab": {
          "base_uri": "https://localhost:8080/"
        },
        "id": "RNcXanPzTB7u",
        "outputId": "bdc54a73-bf98-4ddf-aec7-65e04e9e9a4b"
      },
      "execution_count": null,
      "outputs": [
        {
          "output_type": "execute_result",
          "data": {
            "text/plain": [
              "['tercero', 'cuarto']"
            ]
          },
          "metadata": {},
          "execution_count": 9
        }
      ]
    },
    {
      "cell_type": "code",
      "source": [
        "#Qué pasará cuando se usa un índice negativo? Ejemplo: lista[-4], lista[-3]\n",
        "lista[-4], lista[-3], lista[-2], lista[-1]"
      ],
      "metadata": {
        "id": "_0cx4i7CVF_6",
        "colab": {
          "base_uri": "https://localhost:8080/"
        },
        "outputId": "e0c55ae2-983b-4fff-88c2-1b23122f5364"
      },
      "execution_count": 38,
      "outputs": [
        {
          "output_type": "execute_result",
          "data": {
            "text/plain": [
              "('primero', 'segundo', 'tercero', 'cuarto')"
            ]
          },
          "metadata": {},
          "execution_count": 38
        }
      ]
    },
    {
      "cell_type": "code",
      "source": [
        "#Existe otra forma para acceder a los dos últimos elementos de la lista?. Coloque la línea de código que hace esto.\n",
        "lista[-2], lista[-1]\n"
      ],
      "metadata": {
        "id": "Eg2ZIr5DTnFJ",
        "colab": {
          "base_uri": "https://localhost:8080/"
        },
        "outputId": "51f3f714-ef9d-4671-dec1-d47a1c2fecff"
      },
      "execution_count": 33,
      "outputs": [
        {
          "output_type": "execute_result",
          "data": {
            "text/plain": [
              "('tercero', 'cuarto')"
            ]
          },
          "metadata": {},
          "execution_count": 33
        }
      ]
    },
    {
      "cell_type": "code",
      "source": [
        "#Cómo podría saberse la posición de la lista que ocupa un elemento? \n",
        "#Escriba el código que permita ingresar un elemento de la lista, e imprima la posición del elemento de la lista\n",
        "lista.index(\"primero\"), lista.index(\"segundo\"), lista.index(\"tercero\"), lista.index(\"cuarto\")\n",
        "\n",
        "\n",
        "\n"
      ],
      "metadata": {
        "id": "AFYUJpJCQG9p",
        "colab": {
          "base_uri": "https://localhost:8080/"
        },
        "outputId": "f3097a05-a5e3-406c-8664-57fc5c50c8c7"
      },
      "execution_count": 37,
      "outputs": [
        {
          "output_type": "execute_result",
          "data": {
            "text/plain": [
              "(0, 1, 2, 3)"
            ]
          },
          "metadata": {},
          "execution_count": 37
        }
      ]
    },
    {
      "cell_type": "markdown",
      "source": [
        "###Operaciones con las listas"
      ],
      "metadata": {
        "id": "OPiv0fe4R8__"
      }
    },
    {
      "cell_type": "code",
      "source": [
        "#Crear una lista vacía\n",
        "lista=[]"
      ],
      "metadata": {
        "id": "sgr461D-SAqe"
      },
      "execution_count": 1,
      "outputs": []
    },
    {
      "cell_type": "code",
      "source": [
        "#Cómo se podría crear una matriz? Ingrese el código que permita generar una matriz 3x2, siendo la primera fila \"Nombre\", \"Peso\", \"Altura\"\n",
        "#y diligencie la segunda fila con números\n",
        "#Llame a esa matriz calculo_IMC\n",
        "#Debe imprimir \n",
        "#Nombre  Peso[kg] Altura[m]\n",
        "#\"Sofía\"    57      1.65 \n",
        "\n",
        "\n"
      ],
      "metadata": {
        "id": "NnNEsFRbaUul"
      },
      "execution_count": null,
      "outputs": []
    },
    {
      "cell_type": "code",
      "source": [
        "#Genere una cuarta columna para la matriz IMC, que tenga como nombre IMC y calcule el índice de masa corporal. Esto es:\n",
        "#Nombre  Peso[kg] Altura[m]  IMC\n",
        "#\"Sofía\"    57      1.65     (agrege aquí el resultado del cálculo)\n",
        "\n",
        "\n",
        "\n"
      ],
      "metadata": {
        "id": "UZ_ueaXJdJsT"
      },
      "execution_count": null,
      "outputs": []
    },
    {
      "cell_type": "code",
      "source": [
        "#Genere una quinta columna en la matriz calculo_IMC que emita una descripción obtenida del IMC. Esto es:\n",
        "#Nombre  Peso[kg] Altura[m]  IMC        Descripción\n",
        "#\"Sofía\"    57      1.65     (calculo)  (Dependiendo del IMC debe registrar peso normal, sobrepeso, obesidad tipo I, obesidad tipo II... etc.\n",
        "\n",
        "\n",
        "\n"
      ],
      "metadata": {
        "id": "cgQqg0YJffSH"
      },
      "execution_count": null,
      "outputs": []
    },
    {
      "cell_type": "code",
      "source": [
        "#Conocer el tamaño del vector\n",
        "len(ejemplo)"
      ],
      "metadata": {
        "colab": {
          "base_uri": "https://localhost:8080/",
          "height": 183
        },
        "id": "KZ5QnAzbaH_v",
        "outputId": "3c33deb8-b7d7-4a3b-f085-521b8250872a"
      },
      "execution_count": 39,
      "outputs": [
        {
          "output_type": "error",
          "ename": "NameError",
          "evalue": "ignored",
          "traceback": [
            "\u001b[0;31m---------------------------------------------------------------------------\u001b[0m",
            "\u001b[0;31mNameError\u001b[0m                                 Traceback (most recent call last)",
            "\u001b[0;32m<ipython-input-39-e894bc071362>\u001b[0m in \u001b[0;36m<module>\u001b[0;34m\u001b[0m\n\u001b[1;32m      1\u001b[0m \u001b[0;31m#Conocer el tamaño del vector\u001b[0m\u001b[0;34m\u001b[0m\u001b[0;34m\u001b[0m\u001b[0;34m\u001b[0m\u001b[0m\n\u001b[0;32m----> 2\u001b[0;31m \u001b[0mlen\u001b[0m\u001b[0;34m(\u001b[0m\u001b[0mejemplo\u001b[0m\u001b[0;34m)\u001b[0m\u001b[0;34m\u001b[0m\u001b[0;34m\u001b[0m\u001b[0m\n\u001b[0m",
            "\u001b[0;31mNameError\u001b[0m: name 'ejemplo' is not defined"
          ]
        }
      ]
    },
    {
      "cell_type": "code",
      "source": [
        "#Llenar una lista vacía\n",
        "ejemplo.append(\"Hola\")"
      ],
      "metadata": {
        "id": "JsgmYIkuSVFj"
      },
      "execution_count": null,
      "outputs": []
    },
    {
      "cell_type": "code",
      "source": [
        "#Una lista puede tener diferente tipo de datos!!\n",
        "ejemplo=[\"banana\",\"sandía\", 4, 5, False]\n",
        "ejemplo\n",
        "#Qué pasó con el elemento \"Hola\"?"
      ],
      "metadata": {
        "colab": {
          "base_uri": "https://localhost:8080/"
        },
        "id": "q6LTGURtY_RM",
        "outputId": "49b377b6-a0d0-4ecd-8dc7-620c2319f0cd"
      },
      "execution_count": null,
      "outputs": [
        {
          "output_type": "execute_result",
          "data": {
            "text/plain": [
              "['banana', 'sandía', 4, 5, False]"
            ]
          },
          "metadata": {},
          "execution_count": 34
        }
      ]
    },
    {
      "cell_type": "code",
      "source": [
        "#Eliminar un elemento de la lista\n",
        "ejemplo.remove(4)\n",
        "ejemplo"
      ],
      "metadata": {
        "colab": {
          "base_uri": "https://localhost:8080/"
        },
        "id": "p_o0X4fKZw0k",
        "outputId": "845f0f99-44ac-49f9-df9d-b62a4bcb49de"
      },
      "execution_count": null,
      "outputs": [
        {
          "output_type": "execute_result",
          "data": {
            "text/plain": [
              "['banana', 'sandía', 5, False]"
            ]
          },
          "metadata": {},
          "execution_count": 35
        }
      ]
    },
    {
      "cell_type": "code",
      "source": [
        "#Podría explicar el error generado?\n",
        "ejemplo.remove(4)"
      ],
      "metadata": {
        "colab": {
          "base_uri": "https://localhost:8080/",
          "height": 189
        },
        "id": "ODz7MJvbbh8e",
        "outputId": "f1f850da-cbfa-4c5e-d9fc-8ea1680afed0"
      },
      "execution_count": null,
      "outputs": [
        {
          "output_type": "error",
          "ename": "ValueError",
          "evalue": "ignored",
          "traceback": [
            "\u001b[0;31m---------------------------------------------------------------------------\u001b[0m",
            "\u001b[0;31mValueError\u001b[0m                                Traceback (most recent call last)",
            "\u001b[0;32m<ipython-input-36-cc5e3be70b57>\u001b[0m in \u001b[0;36m<module>\u001b[0;34m\u001b[0m\n\u001b[1;32m      1\u001b[0m \u001b[0;31m#Podría explicar el error generado?\u001b[0m\u001b[0;34m\u001b[0m\u001b[0;34m\u001b[0m\u001b[0;34m\u001b[0m\u001b[0m\n\u001b[0;32m----> 2\u001b[0;31m \u001b[0mejemplo\u001b[0m\u001b[0;34m.\u001b[0m\u001b[0mremove\u001b[0m\u001b[0;34m(\u001b[0m\u001b[0;36m4\u001b[0m\u001b[0;34m)\u001b[0m\u001b[0;34m\u001b[0m\u001b[0;34m\u001b[0m\u001b[0m\n\u001b[0m",
            "\u001b[0;31mValueError\u001b[0m: list.remove(x): x not in list"
          ]
        }
      ]
    },
    {
      "cell_type": "code",
      "source": [
        "#Podría explicar el resultado de este método? \n",
        "del ejemplo[2]\n",
        "ejemplo"
      ],
      "metadata": {
        "colab": {
          "base_uri": "https://localhost:8080/"
        },
        "id": "lhRUkQOEcWHu",
        "outputId": "ad0e0b81-cdb8-49ab-b45e-24451b1213d9"
      },
      "execution_count": null,
      "outputs": [
        {
          "output_type": "execute_result",
          "data": {
            "text/plain": [
              "['banana', 'sandía']"
            ]
          },
          "metadata": {},
          "execution_count": 38
        }
      ]
    },
    {
      "cell_type": "markdown",
      "source": [
        "### EJERCICIO PARA ELIMINAR UN QUEST OBLIGATORIO ☝\n",
        "\n",
        "![Texto alternativo](https://cdn.memegenerator.es/imagenes/memes/full/28/50/28507442.jpg)\n",
        "\n",
        "Realiza el ejercicio propuesto de forma correcta antes de que acabe el tiempo, y hazte acreedor@ de eliminar un quest obligatorio ✨"
      ],
      "metadata": {
        "id": "hmS_3bTvgCph"
      }
    },
    {
      "cell_type": "code",
      "source": [
        "# Revise la página https://www.researchgate.net/publication/273298847_Piedra_Papel_Tijera_y_sus_generalizaciones\n",
        "#Programe Piedra, papel, tijera, spock, lagarto, Papa y heavy usando arreglos."
      ],
      "metadata": {
        "id": "p0SGwGpNgBaz"
      },
      "execution_count": null,
      "outputs": []
    }
  ]
}