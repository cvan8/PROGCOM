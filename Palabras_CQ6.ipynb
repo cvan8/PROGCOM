{
  "nbformat": 4,
  "nbformat_minor": 0,
  "metadata": {
    "colab": {
      "provenance": []
    },
    "kernelspec": {
      "name": "python3",
      "display_name": "Python 3"
    },
    "language_info": {
      "name": "python"
    }
  },
  "cells": [
    {
      "cell_type": "markdown",
      "source": [
        "#Chem Quest Six CQ6"
      ],
      "metadata": {
        "id": "Cf-psAwyPhJt"
      }
    },
    {
      "cell_type": "markdown",
      "source": [
        "##1. False"
      ],
      "metadata": {
        "id": "kVVtAPeOPlj1"
      }
    },
    {
      "cell_type": "markdown",
      "source": [
        "### Aparece cuando se imprime una condición que resulta ser falsa."
      ],
      "metadata": {
        "id": "O21V_LdCP2qe"
      }
    },
    {
      "cell_type": "code",
      "source": [
        "print(10==5)"
      ],
      "metadata": {
        "colab": {
          "base_uri": "https://localhost:8080/"
        },
        "id": "UPiY7BwzP1il",
        "outputId": "d0afa322-afa2-489c-9ff2-898e925f7867"
      },
      "execution_count": 2,
      "outputs": [
        {
          "output_type": "stream",
          "name": "stdout",
          "text": [
            "False\n"
          ]
        }
      ]
    },
    {
      "cell_type": "markdown",
      "source": [
        "##2. None"
      ],
      "metadata": {
        "id": "FbejDLrIRCOE"
      }
    },
    {
      "cell_type": "markdown",
      "source": [
        "###Se utiliza cuando hay un valor desconocido."
      ],
      "metadata": {
        "id": "FJ6ql9eSRISh"
      }
    },
    {
      "cell_type": "code",
      "source": [
        "list=[1, 2, 3, None, 4, 5]\n",
        "print(list)"
      ],
      "metadata": {
        "colab": {
          "base_uri": "https://localhost:8080/"
        },
        "id": "8aiVaSnyRH1M",
        "outputId": "726d8331-16e1-4c75-a6e1-0eeb5e411146"
      },
      "execution_count": 7,
      "outputs": [
        {
          "output_type": "stream",
          "name": "stdout",
          "text": [
            "[1, 2, 3, None, 4, 5]\n"
          ]
        }
      ]
    },
    {
      "cell_type": "markdown",
      "source": [
        "##3. True"
      ],
      "metadata": {
        "id": "xOagQmvnRLih"
      }
    },
    {
      "cell_type": "markdown",
      "source": [
        "### Aparece cuando se imprime una condición verdadera."
      ],
      "metadata": {
        "id": "XC178EkFRPDP"
      }
    },
    {
      "cell_type": "code",
      "source": [
        "print(10==10)"
      ],
      "metadata": {
        "colab": {
          "base_uri": "https://localhost:8080/"
        },
        "id": "mRTVFPmiROWw",
        "outputId": "99c8ab5a-db53-4dbc-947f-996251b94903"
      },
      "execution_count": 3,
      "outputs": [
        {
          "output_type": "stream",
          "name": "stdout",
          "text": [
            "True\n"
          ]
        }
      ]
    },
    {
      "cell_type": "markdown",
      "source": [
        "##4. And"
      ],
      "metadata": {
        "id": "K4AiBhOYRS1o"
      }
    },
    {
      "cell_type": "markdown",
      "source": [
        "###Devuelve True si ambas afirmaciones son verdaderas."
      ],
      "metadata": {
        "id": "XH6IxB4fRWZt"
      }
    },
    {
      "cell_type": "code",
      "source": [
        "x=8\n",
        "print(x<5 and x<10)"
      ],
      "metadata": {
        "colab": {
          "base_uri": "https://localhost:8080/"
        },
        "id": "4mHYyPMVRVxr",
        "outputId": "8eb9e83a-a4cd-44f7-eb6d-9556a84e0fd8"
      },
      "execution_count": 9,
      "outputs": [
        {
          "output_type": "stream",
          "name": "stdout",
          "text": [
            "False\n"
          ]
        }
      ]
    },
    {
      "cell_type": "markdown",
      "source": [
        "##5. As"
      ],
      "metadata": {
        "id": "n0eSHrzSRbXb"
      }
    },
    {
      "cell_type": "markdown",
      "source": [
        "###Es utilizado de forma similar a \"como\"."
      ],
      "metadata": {
        "id": "ASy7ea0-ReIY"
      }
    },
    {
      "cell_type": "code",
      "source": [
        "import tkinter as tk"
      ],
      "metadata": {
        "id": "Fg4be6d3Rdg-"
      },
      "execution_count": 23,
      "outputs": []
    },
    {
      "cell_type": "markdown",
      "source": [
        "##6. Assert"
      ],
      "metadata": {
        "id": "JlfcY_UTRgjI"
      }
    },
    {
      "cell_type": "markdown",
      "source": [
        "###Se utilizan para establecer comprobaciones de cordura durante el proceso de desarrollo. Si la comprobación da falso, se produce un error."
      ],
      "metadata": {
        "id": "UqZzBk_kRkoT"
      }
    },
    {
      "cell_type": "code",
      "source": [
        "assert(2 == 2)"
      ],
      "metadata": {
        "id": "_QckIdHDRkMw"
      },
      "execution_count": 25,
      "outputs": []
    },
    {
      "cell_type": "markdown",
      "source": [
        "##7. Breack"
      ],
      "metadata": {
        "id": "GIdbqQvrRme3"
      }
    },
    {
      "cell_type": "markdown",
      "source": [
        "###Breack es una instrucción, le proporciona a python la oportunidad de cerrar un bucle al activar una condición externa."
      ],
      "metadata": {
        "id": "cV-wOQ6nRrtz"
      }
    },
    {
      "cell_type": "code",
      "source": [
        "for i in range(3280639742364973246379462937463297463297463274623947364):\n",
        "    print(i)\n",
        "    break"
      ],
      "metadata": {
        "colab": {
          "base_uri": "https://localhost:8080/"
        },
        "id": "-kqbo2ngRrBn",
        "outputId": "dc9fed0a-adb3-4704-f1a4-441108645c60"
      },
      "execution_count": 30,
      "outputs": [
        {
          "output_type": "stream",
          "name": "stdout",
          "text": [
            "0\n"
          ]
        }
      ]
    },
    {
      "cell_type": "markdown",
      "source": [
        "##8. Class"
      ],
      "metadata": {
        "id": "TG3XLkbvRmlN"
      }
    },
    {
      "cell_type": "markdown",
      "source": [
        "###Las clases proporcionan un medio para agrupar datos y funcionalidad. La creación de una nueva clase crea un nuevo tipo de objeto, lo que permite crear nuevas instancias de ese tipo."
      ],
      "metadata": {
        "id": "WP5s2I3XRzFy"
      }
    },
    {
      "cell_type": "code",
      "source": [
        "class MyClass:\n",
        "    \"\"\"Help\"\"\"\n",
        "    i = 12345\n",
        "\n",
        "    def f(self):\n",
        "        return 'Hola mundo'"
      ],
      "metadata": {
        "id": "2eH9ep-ARySu"
      },
      "execution_count": 33,
      "outputs": []
    },
    {
      "cell_type": "markdown",
      "source": [
        "##9. Continue"
      ],
      "metadata": {
        "id": "3ZC9hydgR1hy"
      }
    },
    {
      "cell_type": "markdown",
      "source": [
        "###La instrucción continue da la opción de omitir la parte de un bucle en la que se activa una condición externa, pero continuar para completar el resto del bucle."
      ],
      "metadata": {
        "id": "vpZBe11oR5Cd"
      }
    },
    {
      "cell_type": "code",
      "source": [
        "enteris = (1, 2, 3, 4, 5)\n",
        "\n",
        "for i in enteris:\n",
        "  if i ==10:\n",
        "    continue \n",
        "  print(f'Hola mundo numero {i}')\n",
        "\n",
        "print(\"Adiós mundo\")"
      ],
      "metadata": {
        "colab": {
          "base_uri": "https://localhost:8080/"
        },
        "id": "Agu4qUSQR4Yz",
        "outputId": "0d307370-1fc4-42e0-bc44-538050267ed8"
      },
      "execution_count": 39,
      "outputs": [
        {
          "output_type": "stream",
          "name": "stdout",
          "text": [
            "Hola mundo numero 1\n",
            "Hola mundo numero 2\n",
            "Hola mundo numero 3\n",
            "Hola mundo numero 4\n",
            "Hola mundo numero 5\n",
            "Adiós mundo\n"
          ]
        }
      ]
    },
    {
      "cell_type": "markdown",
      "source": [
        "##10. Def"
      ],
      "metadata": {
        "id": "erG1zL1iSA2Q"
      }
    },
    {
      "cell_type": "markdown",
      "source": [
        "###Es una palabra reservada que indica a Python que una nueva función está siendo definida."
      ],
      "metadata": {
        "id": "QqfujdmHSH65"
      }
    },
    {
      "cell_type": "code",
      "source": [
        "def resta(x,y):\n",
        "  resultado= x-y\n",
        "  return resultado \n",
        "print(resta(13434134134134, 1434134134))"
      ],
      "metadata": {
        "colab": {
          "base_uri": "https://localhost:8080/"
        },
        "id": "dSY6_KGwSKur",
        "outputId": "f905e908-dce0-439d-9ef0-a4370833a4d2"
      },
      "execution_count": 44,
      "outputs": [
        {
          "output_type": "stream",
          "name": "stdout",
          "text": [
            "13432700000000\n"
          ]
        }
      ]
    },
    {
      "cell_type": "markdown",
      "source": [
        "##11. Del"
      ],
      "metadata": {
        "id": "tswOz-BMSApa"
      }
    },
    {
      "cell_type": "markdown",
      "source": [
        "###Se utiliza para eliminar objetos. Debido a la naturaleza orientada a objetos de Python, todo lo que puede contener datos es un objeto. Entonces, la declaración del se puede usar para eliminar variables, objetos de clase, listas, etc."
      ],
      "metadata": {
        "id": "ej-6orSFSP3m"
      }
    },
    {
      "cell_type": "code",
      "source": [
        "List = [\"Chocolate\", \"Arroz\", \"Salchicha\"]\n",
        "print(List)\n",
        "del List[2]\n",
        "print(List)"
      ],
      "metadata": {
        "colab": {
          "base_uri": "https://localhost:8080/"
        },
        "id": "PKCGPPk8SPcx",
        "outputId": "ff2fc650-6a2b-4c73-e832-5ae998399218"
      },
      "execution_count": 50,
      "outputs": [
        {
          "output_type": "stream",
          "name": "stdout",
          "text": [
            "['Chocolate', 'Arroz', 'Salchicha']\n",
            "['Chocolate', 'Arroz']\n"
          ]
        }
      ]
    },
    {
      "cell_type": "markdown",
      "source": [
        "##12. Elif"
      ],
      "metadata": {
        "id": "U8nY9-QeSUDc"
      }
    },
    {
      "cell_type": "markdown",
      "source": [
        "###Se pueden verificar varias condiciones al incluir una o más verificaciones elif después de su declaración if inicial."
      ],
      "metadata": {
        "id": "jI4ABquDSYIg"
      }
    },
    {
      "cell_type": "code",
      "source": [
        "a=int(input(\"Por favor ingrese un número \"))\n",
        "type(a)\n",
        "b=int(input(\"Ingrese el divisor \"))\n",
        "if b==0:\n",
        "  print(\"Error\")\n",
        "else:\n",
        "  c=a/b\n",
        "  print(\"El resultado de la división es\", c)\n",
        "  d=int(a%b)\n",
        "  if d>0:\n",
        "    print(d, \"La división no es exacta\")\n",
        "  elif d==0:\n",
        "    print(d, \"La división es exacta\")"
      ],
      "metadata": {
        "colab": {
          "base_uri": "https://localhost:8080/"
        },
        "id": "s4jxh1GFSXgF",
        "outputId": "4e11b5ce-bbc1-4861-f67d-3dbefe04e4e3"
      },
      "execution_count": 51,
      "outputs": [
        {
          "output_type": "stream",
          "name": "stdout",
          "text": [
            "Por favor ingrese un número 4\n",
            "Ingrese el divisor 2\n",
            "El resultado de la división es 2.0\n",
            "0 La división es exacta\n"
          ]
        }
      ]
    },
    {
      "cell_type": "markdown",
      "source": [
        "##13. Else"
      ],
      "metadata": {
        "id": "iFzcE8tNSa5r"
      }
    },
    {
      "cell_type": "markdown",
      "source": [
        "###Opcionalmente,se puede agregar una respuesta else que se ejecutará si la condición es false"
      ],
      "metadata": {
        "id": "dww5my-mSlFb"
      }
    },
    {
      "cell_type": "code",
      "source": [
        "y = 3\n",
        "\n",
        "if y > 4:\n",
        "  print(\"¡No voy a imprimir!\") \n",
        "else:\n",
        "  print(\"¡La condición no es verdadera!\")"
      ],
      "metadata": {
        "id": "e38VuEb3Skbc"
      },
      "execution_count": null,
      "outputs": []
    },
    {
      "cell_type": "markdown",
      "source": [
        "##14. Except"
      ],
      "metadata": {
        "id": "vfZi4IdwSs9S"
      }
    },
    {
      "cell_type": "markdown",
      "source": [
        "###Al programar en Python algunas veces podemos anticipar errores de ejecución, incluso en un programa sintáctica y lógicamente correcto, pueden llegar a haber errores causados por entrada de datos inválidos o inconsistencias predecibles."
      ],
      "metadata": {
        "id": "SjQLKahoSwvZ"
      }
    },
    {
      "cell_type": "code",
      "source": [
        "a=4\n",
        "b=8\n",
        "\n",
        "while a<10:\n",
        "  a+= 1\n",
        "  b-= 1\n",
        "  try: \n",
        "    a/b\n",
        "  except:\n",
        "    print (\"excepción: a={0}, b={1}\".format(a,b))\n",
        "    break \n",
        "  finally:\n",
        "    print(\"Se pone: a={0}, b={1}\".format(a,b))\n",
        "else: \n",
        "  print('Se acabó')"
      ],
      "metadata": {
        "id": "Gb8gn00nSveB"
      },
      "execution_count": null,
      "outputs": []
    },
    {
      "cell_type": "markdown",
      "source": [
        "##15. Finally"
      ],
      "metadata": {
        "id": "IZ1ckZTITWOx"
      }
    },
    {
      "cell_type": "markdown",
      "source": [
        "###Al programar en Python algunas veces podemos anticipar errores de ejecución, incluso en un programa sintáctica y lógicamente correcto, pueden llegar a haber errores causados por entrada de datos inválidos o inconsistencias predecibles."
      ],
      "metadata": {
        "id": "UA_IfEcQTaNc"
      }
    },
    {
      "cell_type": "code",
      "source": [
        "a=4\n",
        "b=8\n",
        "\n",
        "while a<10:\n",
        "  a+= 1\n",
        "  b-= 1\n",
        "  try: \n",
        "    a/b\n",
        "  except:\n",
        "    print (\"excepción: a={0}, b={1}\".format(a,b))\n",
        "    break \n",
        "  finally:\n",
        "    print(\"Se pone: a={0}, b={1}\".format(a,b))\n",
        "else: \n",
        "  print('Se acabó')"
      ],
      "metadata": {
        "colab": {
          "base_uri": "https://localhost:8080/"
        },
        "id": "5OkBu80eTZyT",
        "outputId": "8ac3dba9-7032-4c4d-8734-633c8a541f70"
      },
      "execution_count": 54,
      "outputs": [
        {
          "output_type": "stream",
          "name": "stdout",
          "text": [
            "Se pone: a=5, b=7\n",
            "Se pone: a=6, b=6\n",
            "Se pone: a=7, b=5\n",
            "Se pone: a=8, b=4\n",
            "Se pone: a=9, b=3\n",
            "Se pone: a=10, b=2\n",
            "Se acabó\n"
          ]
        }
      ]
    },
    {
      "cell_type": "markdown",
      "source": [
        "##16. For"
      ],
      "metadata": {
        "id": "mHsR_0GGTbOk"
      }
    },
    {
      "cell_type": "markdown",
      "source": [
        "###El bucle for se utiliza para recorrer los elementos de un objeto iterable (lista, tupla, conjunto, diccionario, …) y ejecutar un bloque de código. En cada paso de la iteración se tiene en cuenta a un único elemento del objeto iterable, sobre el cuál se pueden aplicar una serie de operaciones."
      ],
      "metadata": {
        "id": "Y142edHsTfCf"
      }
    },
    {
      "cell_type": "code",
      "source": [
        "for n in range (100):\n",
        "  print(n)"
      ],
      "metadata": {
        "colab": {
          "base_uri": "https://localhost:8080/"
        },
        "id": "-I30-AkETeU-",
        "outputId": "b40d1769-b55a-4806-a44d-473fc83649ef"
      },
      "execution_count": 60,
      "outputs": [
        {
          "output_type": "stream",
          "name": "stdout",
          "text": [
            "0\n",
            "1\n",
            "2\n",
            "3\n",
            "4\n",
            "5\n",
            "6\n",
            "7\n",
            "8\n",
            "9\n",
            "10\n",
            "11\n",
            "12\n",
            "13\n",
            "14\n",
            "15\n",
            "16\n",
            "17\n",
            "18\n",
            "19\n",
            "20\n",
            "21\n",
            "22\n",
            "23\n",
            "24\n",
            "25\n",
            "26\n",
            "27\n",
            "28\n",
            "29\n",
            "30\n",
            "31\n",
            "32\n",
            "33\n",
            "34\n",
            "35\n",
            "36\n",
            "37\n",
            "38\n",
            "39\n",
            "40\n",
            "41\n",
            "42\n",
            "43\n",
            "44\n",
            "45\n",
            "46\n",
            "47\n",
            "48\n",
            "49\n",
            "50\n",
            "51\n",
            "52\n",
            "53\n",
            "54\n",
            "55\n",
            "56\n",
            "57\n",
            "58\n",
            "59\n",
            "60\n",
            "61\n",
            "62\n",
            "63\n",
            "64\n",
            "65\n",
            "66\n",
            "67\n",
            "68\n",
            "69\n",
            "70\n",
            "71\n",
            "72\n",
            "73\n",
            "74\n",
            "75\n",
            "76\n",
            "77\n",
            "78\n",
            "79\n",
            "80\n",
            "81\n",
            "82\n",
            "83\n",
            "84\n",
            "85\n",
            "86\n",
            "87\n",
            "88\n",
            "89\n",
            "90\n",
            "91\n",
            "92\n",
            "93\n",
            "94\n",
            "95\n",
            "96\n",
            "97\n",
            "98\n",
            "99\n"
          ]
        }
      ]
    },
    {
      "cell_type": "markdown",
      "source": [
        "##17. From"
      ],
      "metadata": {
        "id": "HtTJV4jNTgFy"
      }
    },
    {
      "cell_type": "markdown",
      "source": [
        "###Al usar la forma from ... import ... , le indicamos a Python específicamente cuáles objetos queremos importar de un módulo en particular. Luego, los objetos importados se incorporan a nuestro archivo como cualquier otro objeto definido dentro de él."
      ],
      "metadata": {
        "id": "pDhJ-oB7TnVy"
      }
    },
    {
      "cell_type": "code",
      "source": [
        "from datetime import time\n",
        "\n",
        "x = time(hour=10)\n",
        "\n",
        "print(x)"
      ],
      "metadata": {
        "colab": {
          "base_uri": "https://localhost:8080/"
        },
        "id": "RgujIL7fTmnJ",
        "outputId": "6eedc580-82b5-43ef-d938-c2f3d02988d5"
      },
      "execution_count": 62,
      "outputs": [
        {
          "output_type": "stream",
          "name": "stdout",
          "text": [
            "10:00:00\n"
          ]
        }
      ]
    },
    {
      "cell_type": "markdown",
      "source": [
        "##18. Global"
      ],
      "metadata": {
        "id": "yvsOBJbzTpNd"
      }
    },
    {
      "cell_type": "markdown",
      "source": [
        "###Las variables globales en Python son aquellas definidas en el cuerpo principal del programa fuera de cualquier función. Son accesibles desde cualquier punto del programa, incluso desde dentro de funciones. También se puede acceder a las variables globales de otros programas o módulos importados."
      ],
      "metadata": {
        "id": "DdQPbA2uTtgw"
      }
    },
    {
      "cell_type": "code",
      "source": [
        "c = 0\n",
        "\n",
        "def add():\n",
        "    global c\n",
        "    c = c + 2\n",
        "    print(\"Inside add():\", c)\n",
        "\n",
        "add()\n",
        "print(\"In main:\", c)"
      ],
      "metadata": {
        "colab": {
          "base_uri": "https://localhost:8080/"
        },
        "id": "2RAXFiyoTutk",
        "outputId": "2d38c159-f86b-463b-b1db-6d8dd0e1faa0"
      },
      "execution_count": 64,
      "outputs": [
        {
          "output_type": "stream",
          "name": "stdout",
          "text": [
            "Inside add(): 2\n",
            "In main: 2\n"
          ]
        }
      ]
    },
    {
      "cell_type": "markdown",
      "source": [
        "##19. If"
      ],
      "metadata": {
        "id": "ANkNFsCRTwhF"
      }
    },
    {
      "cell_type": "markdown",
      "source": [
        "###Si la condición que sigue a la palabra clave if se evalúa como verdadera, el bloque de código se ejecutará."
      ],
      "metadata": {
        "id": "0nWtny8BT0KO"
      }
    },
    {
      "cell_type": "code",
      "source": [
        "x = 53424\n",
        "\n",
        "if x > 134:\n",
        "  print(\"¡La condición era verdadera!\")"
      ],
      "metadata": {
        "colab": {
          "base_uri": "https://localhost:8080/"
        },
        "id": "R00lRTsCTzx0",
        "outputId": "63a2aa20-71bf-4efe-9751-b8d5f0e7c07c"
      },
      "execution_count": 67,
      "outputs": [
        {
          "output_type": "stream",
          "name": "stdout",
          "text": [
            "¡La condición era verdadera!\n"
          ]
        }
      ]
    },
    {
      "cell_type": "markdown",
      "source": [
        "##20. Import"
      ],
      "metadata": {
        "id": "jlwhGdNlT2Sm"
      }
    },
    {
      "cell_type": "markdown",
      "source": [
        "###El código Python en un módulo obtiene acceso al código en otro módulo por el proceso de importarlo. La instrucción import es la forma más común de invocar la maquinaria de importación, pero no es la única manera."
      ],
      "metadata": {
        "id": "AS_YaE5mT53M"
      }
    },
    {
      "cell_type": "code",
      "source": [
        "import tkinter"
      ],
      "metadata": {
        "id": "0TiddaQ4T5TC"
      },
      "execution_count": null,
      "outputs": []
    },
    {
      "cell_type": "markdown",
      "source": [
        "##21. In"
      ],
      "metadata": {
        "id": "cY_S4vSCUOv3"
      }
    },
    {
      "cell_type": "markdown",
      "source": [
        "###Devuelve True si una secuencia con el valor especificado está presente en el objeto"
      ],
      "metadata": {
        "id": "2X6IXCi7UTUE"
      }
    },
    {
      "cell_type": "code",
      "source": [
        "x=\"a\"\n",
        "y=\"Chocolate\"\n",
        "x in y"
      ],
      "metadata": {
        "colab": {
          "base_uri": "https://localhost:8080/"
        },
        "id": "lP3pnm_HUSvU",
        "outputId": "eef4be53-88bb-4750-8d3f-428c67da3095"
      },
      "execution_count": 71,
      "outputs": [
        {
          "output_type": "execute_result",
          "data": {
            "text/plain": [
              "True"
            ]
          },
          "metadata": {},
          "execution_count": 71
        }
      ]
    },
    {
      "cell_type": "markdown",
      "source": [
        "##22. Is"
      ],
      "metadata": {
        "id": "W6gEJ7ioUZ_J"
      }
    },
    {
      "cell_type": "markdown",
      "source": [
        "###Devuelve True si ambas variables son el mismo objeto."
      ],
      "metadata": {
        "id": "jDXumBFpUdxH"
      }
    },
    {
      "cell_type": "code",
      "source": [
        "x=\"a\"\n",
        "y=\"a\"\n",
        "x is y"
      ],
      "metadata": {
        "colab": {
          "base_uri": "https://localhost:8080/"
        },
        "id": "Yjdcj2OUUdLG",
        "outputId": "da6159b5-88c1-4339-f8da-f726670dd4bd"
      },
      "execution_count": 22,
      "outputs": [
        {
          "output_type": "execute_result",
          "data": {
            "text/plain": [
              "True"
            ]
          },
          "metadata": {},
          "execution_count": 22
        }
      ]
    },
    {
      "cell_type": "markdown",
      "source": [
        "##23. Lambda"
      ],
      "metadata": {
        "id": "XLwUVTILUenW"
      }
    },
    {
      "cell_type": "markdown",
      "source": [
        "###Las expresiones lambda en Python son una forma corta de declarar funciones pequeñas y anónimas (no es necesario proporcionar un nombre para las funciones lambda).\n",
        "###Las funciones Lambda se comportan como funciones normales declaradas con la palabra clave def. Resultan útiles cuando se desea definir una función pequeña de forma concisa. Pueden contener solo una expresión, por lo que no son las más adecuadas para funciones con instrucciones de flujo de control."
      ],
      "metadata": {
        "id": "32F9zxNVUmFY"
      }
    },
    {
      "cell_type": "code",
      "source": [
        "Chocob = lambda x: x ** 12\n",
        "print(Chocob(323))"
      ],
      "metadata": {
        "colab": {
          "base_uri": "https://localhost:8080/"
        },
        "id": "S2vlBvttUlwf",
        "outputId": "7b63ee34-d19e-44c3-f579-e736aa20efaa"
      },
      "execution_count": 79,
      "outputs": [
        {
          "output_type": "stream",
          "name": "stdout",
          "text": [
            "1289526489840334121941717217521\n"
          ]
        }
      ]
    },
    {
      "cell_type": "markdown",
      "source": [
        "##24. Nonlocal"
      ],
      "metadata": {
        "id": "e52-2eLXUnmd"
      }
    },
    {
      "cell_type": "markdown",
      "source": [
        "###La palabra clave nonlocal se utiliza para establecer el alcance de una variable en particular. Se utiliza principalmente en los casos en que se produce el anidamiento en un programa."
      ],
      "metadata": {
        "id": "_dE3geSjUqkN"
      }
    },
    {
      "cell_type": "code",
      "source": [
        "def myfunc1():\n",
        "  x = \"Mike\"\n",
        "  def myfunc2():\n",
        "    nonlocal x\n",
        "    x = \"Hola mundo\"\n",
        "  myfunc2()\n",
        "  return x\n",
        "\n",
        "print(myfunc1())"
      ],
      "metadata": {
        "colab": {
          "base_uri": "https://localhost:8080/"
        },
        "id": "_i7gKsw8UqCr",
        "outputId": "635c411e-6327-4917-961c-b84f32dc0396"
      },
      "execution_count": 81,
      "outputs": [
        {
          "output_type": "stream",
          "name": "stdout",
          "text": [
            "Hola mundo\n"
          ]
        }
      ]
    },
    {
      "cell_type": "markdown",
      "source": [
        "##25. Not"
      ],
      "metadata": {
        "id": "ebZ2pk_8Urt-"
      }
    },
    {
      "cell_type": "markdown",
      "source": [
        "###Invierte el resultado, devuelve False si el resultado es verdadero."
      ],
      "metadata": {
        "id": "PPsSeS5mUuQA"
      }
    },
    {
      "cell_type": "code",
      "source": [
        "not(x < 1797220817 and x < 16762)"
      ],
      "metadata": {
        "colab": {
          "base_uri": "https://localhost:8080/"
        },
        "id": "nYBE85hlUt1Q",
        "outputId": "1c1cfa52-62b8-44ff-e1be-8bfa3c93cac5"
      },
      "execution_count": 13,
      "outputs": [
        {
          "output_type": "execute_result",
          "data": {
            "text/plain": [
              "False"
            ]
          },
          "metadata": {},
          "execution_count": 13
        }
      ]
    },
    {
      "cell_type": "markdown",
      "source": [
        "##26. Or"
      ],
      "metadata": {
        "id": "0AckveFkUu5y"
      }
    },
    {
      "cell_type": "markdown",
      "source": [
        "###Devuelve True si una de las afirmaciones es verdadera."
      ],
      "metadata": {
        "id": "lwDZbGzIUydi"
      }
    },
    {
      "cell_type": "code",
      "source": [
        "x < 10 or x < 8"
      ],
      "metadata": {
        "colab": {
          "base_uri": "https://localhost:8080/"
        },
        "id": "IjArL-rlUx-S",
        "outputId": "353c5d65-36dd-4c06-adc7-cb3ec76f02b0"
      },
      "execution_count": 12,
      "outputs": [
        {
          "output_type": "execute_result",
          "data": {
            "text/plain": [
              "True"
            ]
          },
          "metadata": {},
          "execution_count": 12
        }
      ]
    },
    {
      "cell_type": "markdown",
      "source": [
        "##27. Pass"
      ],
      "metadata": {
        "id": "eMrmEPvyUzP-"
      }
    },
    {
      "cell_type": "markdown",
      "source": [
        "###Cuando se activa una condición externa, la instrucción pass permite manejar la condición sin que el bucle se vea afectado de ninguna manera; todo el código continuará leyéndose a menos que se produzca la instrucción break u otra instrucción."
      ],
      "metadata": {
        "id": "dJAqgUDuU2V_"
      }
    },
    {
      "cell_type": "code",
      "source": [
        "def function(args):\n",
        "    pass"
      ],
      "metadata": {
        "id": "E0I_b7ADU2Iq"
      },
      "execution_count": 85,
      "outputs": []
    },
    {
      "cell_type": "markdown",
      "source": [
        "##28. Raise"
      ],
      "metadata": {
        "id": "cpKa6iHSU3LI"
      }
    },
    {
      "cell_type": "markdown",
      "source": [
        "###Para levantar una excepción de cualquier tipo, utilizamos también la sentencia raise, pero indicándole el tipo de excepción que deseamos lanzar y pasando a la excepción los parámetros con información adicional que queramos brindar."
      ],
      "metadata": {
        "id": "QPX3iTl6RfzR"
      }
    },
    {
      "cell_type": "code",
      "source": [
        "x = \"hello\"\n",
        "\n",
        "if not type(x) is int:\n",
        "  raise TypeError(\"Only integers are allowed\")"
      ],
      "metadata": {
        "colab": {
          "base_uri": "https://localhost:8080/",
          "height": 200
        },
        "id": "q31lnp7eRiS-",
        "outputId": "26eb8c54-58cb-4b4f-bf00-2ca388e99d2e"
      },
      "execution_count": 93,
      "outputs": [
        {
          "output_type": "error",
          "ename": "TypeError",
          "evalue": "ignored",
          "traceback": [
            "\u001b[0;31m---------------------------------------------------------------------------\u001b[0m",
            "\u001b[0;31mTypeError\u001b[0m                                 Traceback (most recent call last)",
            "\u001b[0;32m<ipython-input-93-bc91768a6271>\u001b[0m in \u001b[0;36m<module>\u001b[0;34m\u001b[0m\n\u001b[1;32m      2\u001b[0m \u001b[0;34m\u001b[0m\u001b[0m\n\u001b[1;32m      3\u001b[0m \u001b[0;32mif\u001b[0m \u001b[0;32mnot\u001b[0m \u001b[0mtype\u001b[0m\u001b[0;34m(\u001b[0m\u001b[0mx\u001b[0m\u001b[0;34m)\u001b[0m \u001b[0;32mis\u001b[0m \u001b[0mint\u001b[0m\u001b[0;34m:\u001b[0m\u001b[0;34m\u001b[0m\u001b[0;34m\u001b[0m\u001b[0m\n\u001b[0;32m----> 4\u001b[0;31m   \u001b[0;32mraise\u001b[0m \u001b[0mTypeError\u001b[0m\u001b[0;34m(\u001b[0m\u001b[0;34m\"Only integers are allowed\"\u001b[0m\u001b[0;34m)\u001b[0m\u001b[0;34m\u001b[0m\u001b[0;34m\u001b[0m\u001b[0m\n\u001b[0m",
            "\u001b[0;31mTypeError\u001b[0m: Only integers are allowed"
          ]
        }
      ]
    },
    {
      "cell_type": "markdown",
      "source": [
        "##29. Return"
      ],
      "metadata": {
        "id": "3kqpPw0RVWWJ"
      }
    },
    {
      "cell_type": "markdown",
      "source": [
        "###La instrucción return indica el final de la función pero también el valor que devuelve la función. La ejecución del programa continúa tras la llamada a la función."
      ],
      "metadata": {
        "id": "2PmOG31UVbI_"
      }
    },
    {
      "cell_type": "code",
      "source": [
        "def cube(x):\n",
        "   r=x**3\n",
        "   return r"
      ],
      "metadata": {
        "id": "Ku0bhwnTVao4"
      },
      "execution_count": 96,
      "outputs": []
    },
    {
      "cell_type": "markdown",
      "source": [
        "##30. Try"
      ],
      "metadata": {
        "id": "7x8x_F2WVc2Q"
      }
    },
    {
      "cell_type": "markdown",
      "source": [
        "###Al programar en Python algunas veces podemos anticipar errores de ejecución, incluso en un programa sintáctica y lógicamente correcto, pueden llegar a haber errores causados por entrada de datos inválidos o inconsistencias predecibles."
      ],
      "metadata": {
        "id": "3HLubRXKVfhL"
      }
    },
    {
      "cell_type": "code",
      "source": [
        "a=4\n",
        "b=8\n",
        "\n",
        "while a<10:\n",
        "  a+= 1\n",
        "  b-= 1\n",
        "  try: \n",
        "    a/b\n",
        "  except:\n",
        "    print (\"excepción: a={0}, b={1}\".format(a,b))\n",
        "    break \n",
        "  finally:\n",
        "    print(\"Se pone: a={0}, b={1}\".format(a,b))\n",
        "else: \n",
        "  print('Se acabó')"
      ],
      "metadata": {
        "id": "YtuuU7yJVfEg"
      },
      "execution_count": null,
      "outputs": []
    },
    {
      "cell_type": "markdown",
      "source": [
        "##31. While"
      ],
      "metadata": {
        "id": "z2wU5GLrVgu-"
      }
    },
    {
      "cell_type": "markdown",
      "source": [
        "###El bucle while evalúa una condición y luego ejecuta un bloque de código si la condición es verdadera. El bloque de código se ejecuta repetidamente hasta que la condición llega ser o es falsa."
      ],
      "metadata": {
        "id": "NgbyOlm0VkTq"
      }
    },
    {
      "cell_type": "code",
      "source": [
        "i = 1\n",
        "while i < 18:\n",
        "  print(i)\n",
        "  i += 1"
      ],
      "metadata": {
        "colab": {
          "base_uri": "https://localhost:8080/"
        },
        "id": "T7-gqYA5Vj0o",
        "outputId": "84de5c4e-2c30-415b-dba5-2c230839b850"
      },
      "execution_count": 98,
      "outputs": [
        {
          "output_type": "stream",
          "name": "stdout",
          "text": [
            "1\n",
            "2\n",
            "3\n",
            "4\n",
            "5\n",
            "6\n",
            "7\n",
            "8\n",
            "9\n",
            "10\n",
            "11\n",
            "12\n",
            "13\n",
            "14\n",
            "15\n",
            "16\n",
            "17\n"
          ]
        }
      ]
    },
    {
      "cell_type": "markdown",
      "source": [
        "##32. With"
      ],
      "metadata": {
        "id": "XYZRAD8xVl6b"
      }
    },
    {
      "cell_type": "markdown",
      "source": [
        "###Las sentencias with permite la ejecución del código de inicialización y finalización alrededor de un bloque de código. Las definiciones de función y clase también son sentencias sintácticamente compuestas."
      ],
      "metadata": {
        "id": "rQW7fcshVpA3"
      }
    },
    {
      "cell_type": "code",
      "source": [
        "with open('file_path', 'w') as file:\n",
        "    file.write('hello world !')"
      ],
      "metadata": {
        "id": "MjwGTI7cVqDH"
      },
      "execution_count": 99,
      "outputs": []
    },
    {
      "cell_type": "markdown",
      "source": [
        "##33. Yield"
      ],
      "metadata": {
        "id": "TqRnfRrxVs-u"
      }
    },
    {
      "cell_type": "markdown",
      "source": [
        "###Se le llama así a un objeto que es capaz de retornar sus miembros uno a la vez. Entre los iterables se encuentran estructuras de secuencia como son: strings."
      ],
      "metadata": {
        "id": "8gHPeBZiVx0J"
      }
    },
    {
      "cell_type": "code",
      "source": [
        "def func():\n",
        "  print('start')\n",
        "  item= yield 123\n",
        "  print('end')"
      ],
      "metadata": {
        "id": "--ODj8NLVxZV"
      },
      "execution_count": null,
      "outputs": []
    }
  ]
}