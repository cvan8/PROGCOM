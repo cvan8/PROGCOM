{
  "nbformat": 4,
  "nbformat_minor": 0,
  "metadata": {
    "colab": {
      "provenance": []
    },
    "kernelspec": {
      "name": "python3",
      "display_name": "Python 3"
    },
    "language_info": {
      "name": "python"
    }
  },
  "cells": [
    {
      "cell_type": "code",
      "source": [
        "import random\n",
        "opciones=[\"piedra\", \"papel\", \"tijera\", \"spock\" , \"lagarto\" ]\n",
        "while True:\n",
        "    print(\"\")\n",
        "    a= input(\"Elige: piedra, papel, tijera, spock o lagarto: \").lower()\n",
        "    if a not in opciones:\n",
        "        print(\"No valido\")\n",
        "        continue\n",
        "    b = random.choice(opciones)\n",
        "    print(\"Pelas contra: \",b)\n",
        "    if a == b:\n",
        "     print(\"Empate ---\" ,a)\n",
        "\n",
        "    elif a ==\"piedra\" and b == \"tijeras\":\n",
        "        print(\"Ganaste! ---\"+a+\" Perdiste \"+b)\n",
        "    elif a ==\"piedra\" and b == \"lagarto\":\n",
        "        print(\"Ganaste! ---\"+a+\" Perdiste \"+b)\n",
        "\n",
        "    elif a ==\"tijera\" and b == \"papel\":\n",
        "        print(\"Ganaste! ---\"+a+\" Perdiste \"+b)\n",
        "    elif a ==\"tijera\" and b == \"lagarto\":\n",
        "        print(\"Ganaste! ---\"+a+\" Perdiste \"+b)\n",
        "\n",
        "    elif a ==\"papel\" and b == \"piedra\":\n",
        "        print(\"Ganaste! ---\"+a+\" Perdiste \"+b)\n",
        "    elif a ==\"papel\" and b == \"spock\":\n",
        "        print(\"Ganaste! ---\"+a+\" Perdiste \"+b)\n",
        "\n",
        "    elif a ==\"spock\" and b == \"tijera\":\n",
        "        print(\"Ganaste! ---\"+a+\" Perdiste \"+b)\n",
        "    elif a ==\"spock\" and b == \"piedra\":\n",
        "        print(\"Ganaste! ---\"+a+\" Perdiste \"+b)\n",
        "    \n",
        "    elif a ==\"lagarto\" and b == \"spock\":\n",
        "        print(\"Ganaste! ---\"+a+\" Perdiste \"+b)\n",
        "    elif a ==\"lagarto\" and b == \"papel\":\n",
        "        print(\"Ganaste! ---\"+a+\" Perdiste \"+b)\n",
        "    \n",
        "    else:\n",
        "        print(\"Perdiste! ---\"+b+\" derrota \"+a)"
      ],
      "metadata": {
        "colab": {
          "base_uri": "https://localhost:8080/"
        },
        "id": "wuMskXK7xiEg",
        "outputId": "adfbd670-25f2-4633-c7cf-480cf6055117"
      },
      "execution_count": null,
      "outputs": [
        {
          "metadata": {
            "tags": null
          },
          "name": "stdout",
          "output_type": "stream",
          "text": [
            "\n"
          ]
        }
      ]
    }
  ]
}