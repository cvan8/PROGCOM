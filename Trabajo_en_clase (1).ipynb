{
  "nbformat": 4,
  "nbformat_minor": 0,
  "metadata": {
    "colab": {
      "name": "Trabajo en clase",
      "provenance": []
    },
    "kernelspec": {
      "name": "python3",
      "display_name": "Python 3"
    },
    "language_info": {
      "name": "python"
    }
  },
  "cells": [
    {
      "cell_type": "markdown",
      "source": [
        "#Actividad en clase"
      ],
      "metadata": {
        "id": "g9WzD0BMpsaB"
      }
    },
    {
      "cell_type": "markdown",
      "source": [
        "#1"
      ],
      "metadata": {
        "id": "u1sWLeqhp3No"
      }
    },
    {
      "cell_type": "markdown",
      "source": [
        "#####Escriba un programa que solicite dos números enteros y calcule su división. El programa debe definir si la división es exacta o no. Si no es exacta, debe imprimir cuál es su residuo. ¿Qué debería imprimir el programa si la división es entre cero?"
      ],
      "metadata": {
        "id": "bH8QsXWpp7uo"
      }
    },
    {
      "cell_type": "code",
      "source": [
        "a=int(input(\"Ingrese un número entero: \"))\n",
        "b=int(input(\"Ingrese otro número entero: \"))"
      ],
      "metadata": {
        "colab": {
          "base_uri": "https://localhost:8080/"
        },
        "id": "mSkIB46fqXVp",
        "outputId": "de1ccf17-a3f6-44e0-998b-41c9a4e4f49f"
      },
      "execution_count": 81,
      "outputs": [
        {
          "name": "stdout",
          "output_type": "stream",
          "text": [
            "Ingrese un número entero: 54\n",
            "Ingrese otro número entero: 65\n"
          ]
        }
      ]
    },
    {
      "cell_type": "code",
      "source": [
        "if b==0:\n",
        "  print(\"No se puede dividir entre 0\")\n",
        "else:\n",
        "  c=a/b"
      ],
      "metadata": {
        "id": "FMRPWyxkuWaY"
      },
      "execution_count": 82,
      "outputs": []
    },
    {
      "cell_type": "code",
      "source": [
        "d=int(a%b)"
      ],
      "metadata": {
        "id": "98k6M324yECc"
      },
      "execution_count": 83,
      "outputs": []
    },
    {
      "cell_type": "code",
      "source": [
        "if d==0:\n",
        "  print(\"La división es exacta, la respuesta es: \",c)\n",
        "else:\n",
        "  print(\"La división no es exacta, la respuesta es: \", c, \"el residuo es: \",d)"
      ],
      "metadata": {
        "colab": {
          "base_uri": "https://localhost:8080/"
        },
        "id": "Tu2d-d1AwUuF",
        "outputId": "8b6fae33-56d1-4440-9a98-a922460cc0f7"
      },
      "execution_count": 85,
      "outputs": [
        {
          "output_type": "stream",
          "name": "stdout",
          "text": [
            "La división no es exacta, la respuesta es:  0.8307692307692308 el residuo es:  54\n"
          ]
        }
      ]
    },
    {
      "cell_type": "markdown",
      "source": [
        "#2"
      ],
      "metadata": {
        "id": "86DMJkVJzt7P"
      }
    },
    {
      "cell_type": "markdown",
      "source": [
        "####Escriba un programa que pida dos números e indique si uno es múltiplo del otro"
      ],
      "metadata": {
        "id": "lIjvg5Euzzrm"
      }
    },
    {
      "cell_type": "code",
      "source": [
        "a=int(input(\"Ingrese un número: \"))\n",
        "b=int(input(\"Ingrese otro número: \"))"
      ],
      "metadata": {
        "colab": {
          "base_uri": "https://localhost:8080/"
        },
        "id": "Tutvw7iN0BmK",
        "outputId": "ad07067f-e005-4667-ee05-c3f3eda4599e"
      },
      "execution_count": 86,
      "outputs": [
        {
          "name": "stdout",
          "output_type": "stream",
          "text": [
            "Ingrese un número: 20\n",
            "Ingrese otro número: 2\n"
          ]
        }
      ]
    },
    {
      "cell_type": "code",
      "source": [
        "if b==0:\n",
        "  print(\"Son múltiples entre si\")\n",
        "else:\n",
        "  c=a/b"
      ],
      "metadata": {
        "id": "USTlKrIM0Neq"
      },
      "execution_count": 87,
      "outputs": []
    },
    {
      "cell_type": "code",
      "source": [
        "d=int(a%b)"
      ],
      "metadata": {
        "id": "QUtA1JHR0aK-"
      },
      "execution_count": 88,
      "outputs": []
    },
    {
      "cell_type": "code",
      "source": [
        "if d==0:\n",
        "  print(\"No se puede dividir entre 0\")\n",
        "else:\n",
        "  c=a/b"
      ],
      "metadata": {
        "colab": {
          "base_uri": "https://localhost:8080/"
        },
        "id": "lw4hazW60Uw9",
        "outputId": "0ab3cf64-ad58-4730-9e21-01dc7d45d4ee"
      },
      "execution_count": 89,
      "outputs": [
        {
          "output_type": "stream",
          "name": "stdout",
          "text": [
            "No se puede dividir entre 0\n"
          ]
        }
      ]
    },
    {
      "cell_type": "code",
      "source": [
        "if d==0:\n",
        "  print(\"Los dos números son múltiplos entre si\")\n",
        "else:\n",
        "  print(\"Los números no son múltiplos entre si\")"
      ],
      "metadata": {
        "colab": {
          "base_uri": "https://localhost:8080/"
        },
        "id": "VH6RwrdU0geh",
        "outputId": "13ad0531-b994-4551-f9a8-000d2e9d6366"
      },
      "execution_count": 90,
      "outputs": [
        {
          "output_type": "stream",
          "name": "stdout",
          "text": [
            "Los dos números son múltiplos entre si\n"
          ]
        }
      ]
    }
  ]
}