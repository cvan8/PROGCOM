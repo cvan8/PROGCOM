{
  "nbformat": 4,
  "nbformat_minor": 0,
  "metadata": {
    "colab": {
      "name": "Untitled1.ipynb",
      "provenance": []
    },
    "kernelspec": {
      "name": "python3",
      "display_name": "Python 3"
    },
    "language_info": {
      "name": "python"
    }
  },
  "cells": [
    {
      "cell_type": "markdown",
      "source": [
        "#Trabajo en clase"
      ],
      "metadata": {
        "id": "oJ4lI7T7moHS"
      }
    },
    {
      "cell_type": "markdown",
      "source": [
        "##1. Indicar si un número N es un número primo (siendo N un número que se lee)"
      ],
      "metadata": {
        "id": "eC_QmdqYs0QL"
      }
    },
    {
      "cell_type": "code",
      "source": [
        "ac=0\n",
        "numerito=int(input(\"Ingrese un número entero: \"))\n",
        "for i in range (1,numerito+1):\n",
        "  print(n, \"%\" ,i, \"=\", numerito%i)\n",
        "  if numerito%i==0:\n",
        "    ac=ac+1\n",
        "if ac<=2:\n",
        "  print(numerito, \"es un número primo :3\")\n",
        "else:\n",
        "  print(numerito, \"no es un número primo :(\")"
      ],
      "metadata": {
        "colab": {
          "base_uri": "https://localhost:8080/"
        },
        "id": "BcGfnph2s3mb",
        "outputId": "1647e601-0c1b-4498-9218-c700dbfa2904"
      },
      "execution_count": 6,
      "outputs": [
        {
          "output_type": "stream",
          "name": "stdout",
          "text": [
            "Ingrese un número entero: 101\n",
            "50 % 1 = 0\n",
            "50 % 2 = 1\n",
            "50 % 3 = 2\n",
            "50 % 4 = 1\n",
            "50 % 5 = 1\n",
            "50 % 6 = 5\n",
            "50 % 7 = 3\n",
            "50 % 8 = 5\n",
            "50 % 9 = 2\n",
            "50 % 10 = 1\n",
            "50 % 11 = 2\n",
            "50 % 12 = 5\n",
            "50 % 13 = 10\n",
            "50 % 14 = 3\n",
            "50 % 15 = 11\n",
            "50 % 16 = 5\n",
            "50 % 17 = 16\n",
            "50 % 18 = 11\n",
            "50 % 19 = 6\n",
            "50 % 20 = 1\n",
            "50 % 21 = 17\n",
            "50 % 22 = 13\n",
            "50 % 23 = 9\n",
            "50 % 24 = 5\n",
            "50 % 25 = 1\n",
            "50 % 26 = 23\n",
            "50 % 27 = 20\n",
            "50 % 28 = 17\n",
            "50 % 29 = 14\n",
            "50 % 30 = 11\n",
            "50 % 31 = 8\n",
            "50 % 32 = 5\n",
            "50 % 33 = 2\n",
            "50 % 34 = 33\n",
            "50 % 35 = 31\n",
            "50 % 36 = 29\n",
            "50 % 37 = 27\n",
            "50 % 38 = 25\n",
            "50 % 39 = 23\n",
            "50 % 40 = 21\n",
            "50 % 41 = 19\n",
            "50 % 42 = 17\n",
            "50 % 43 = 15\n",
            "50 % 44 = 13\n",
            "50 % 45 = 11\n",
            "50 % 46 = 9\n",
            "50 % 47 = 7\n",
            "50 % 48 = 5\n",
            "50 % 49 = 3\n",
            "50 % 50 = 1\n",
            "50 % 51 = 50\n",
            "50 % 52 = 49\n",
            "50 % 53 = 48\n",
            "50 % 54 = 47\n",
            "50 % 55 = 46\n",
            "50 % 56 = 45\n",
            "50 % 57 = 44\n",
            "50 % 58 = 43\n",
            "50 % 59 = 42\n",
            "50 % 60 = 41\n",
            "50 % 61 = 40\n",
            "50 % 62 = 39\n",
            "50 % 63 = 38\n",
            "50 % 64 = 37\n",
            "50 % 65 = 36\n",
            "50 % 66 = 35\n",
            "50 % 67 = 34\n",
            "50 % 68 = 33\n",
            "50 % 69 = 32\n",
            "50 % 70 = 31\n",
            "50 % 71 = 30\n",
            "50 % 72 = 29\n",
            "50 % 73 = 28\n",
            "50 % 74 = 27\n",
            "50 % 75 = 26\n",
            "50 % 76 = 25\n",
            "50 % 77 = 24\n",
            "50 % 78 = 23\n",
            "50 % 79 = 22\n",
            "50 % 80 = 21\n",
            "50 % 81 = 20\n",
            "50 % 82 = 19\n",
            "50 % 83 = 18\n",
            "50 % 84 = 17\n",
            "50 % 85 = 16\n",
            "50 % 86 = 15\n",
            "50 % 87 = 14\n",
            "50 % 88 = 13\n",
            "50 % 89 = 12\n",
            "50 % 90 = 11\n",
            "50 % 91 = 10\n",
            "50 % 92 = 9\n",
            "50 % 93 = 8\n",
            "50 % 94 = 7\n",
            "50 % 95 = 6\n",
            "50 % 96 = 5\n",
            "50 % 97 = 4\n",
            "50 % 98 = 3\n",
            "50 % 99 = 2\n",
            "50 % 100 = 1\n",
            "50 % 101 = 0\n",
            "101 es un número primo :3\n"
          ]
        }
      ]
    },
    {
      "cell_type": "markdown",
      "source": [
        "##2. Imprimir los 30 primeros números de Fibonacci."
      ],
      "metadata": {
        "id": "Fgc4BB9Nmtrq"
      }
    },
    {
      "cell_type": "code",
      "source": [
        "def fibonacci_iter(N):\n",
        "  v1=1\n",
        "  v2=1\n",
        "  if N==1:\n",
        "    print(0)\n",
        "  elif N==2:\n",
        "    print(0,1)\n",
        "  else:\n",
        "    print(0)\n",
        "    print(v1)\n",
        "    print(v2)\n",
        "    for i in range (N-3):\n",
        "      tsuma= v1 + v2\n",
        "      v1=v1\n",
        "      v2=tsuma\n",
        "      print(tsuma)\n",
        "print(\"Los 30 primeros números de la serie fibonacci son:\")\n",
        "fibonacci_iter(30)"
      ],
      "metadata": {
        "colab": {
          "base_uri": "https://localhost:8080/"
        },
        "id": "CgFcp_p5mw4C",
        "outputId": "c8894b25-3545-43d8-a080-9aa5250b9173"
      },
      "execution_count": 14,
      "outputs": [
        {
          "output_type": "stream",
          "name": "stdout",
          "text": [
            "0\n",
            "1\n",
            "1\n",
            "2\n",
            "3\n",
            "4\n",
            "5\n",
            "6\n",
            "7\n",
            "8\n",
            "9\n",
            "10\n",
            "11\n",
            "12\n",
            "13\n",
            "14\n",
            "15\n",
            "16\n",
            "17\n",
            "18\n",
            "19\n",
            "20\n",
            "21\n",
            "22\n",
            "23\n",
            "24\n",
            "25\n",
            "26\n",
            "27\n",
            "28\n"
          ]
        }
      ]
    }
  ]
}